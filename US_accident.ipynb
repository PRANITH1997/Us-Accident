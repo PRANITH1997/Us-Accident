{
 "cells": [
  {
   "cell_type": "code",
   "execution_count": 1,
   "id": "dba0af64",
   "metadata": {},
   "outputs": [],
   "source": [
    "import pandas as pd\n",
    "import numpy as np\n",
    "from matplotlib import pyplot as plt\n",
    "import seaborn as sns"
   ]
  },
  {
   "cell_type": "code",
   "execution_count": 2,
   "id": "f4b6be92",
   "metadata": {},
   "outputs": [],
   "source": [
    "df = pd.read_csv('US_Accidents_March23.csv', encoding = 'unicode_escape')"
   ]
  },
  {
   "cell_type": "code",
   "execution_count": 3,
   "id": "aa5e3158",
   "metadata": {},
   "outputs": [
    {
     "data": {
      "text/plain": [
       "(7728394, 46)"
      ]
     },
     "execution_count": 3,
     "metadata": {},
     "output_type": "execute_result"
    }
   ],
   "source": [
    "df.shape"
   ]
  },
  {
   "cell_type": "code",
   "execution_count": 4,
   "id": "3dac3c4a",
   "metadata": {},
   "outputs": [
    {
     "data": {
      "text/html": [
       "<div>\n",
       "<style scoped>\n",
       "    .dataframe tbody tr th:only-of-type {\n",
       "        vertical-align: middle;\n",
       "    }\n",
       "\n",
       "    .dataframe tbody tr th {\n",
       "        vertical-align: top;\n",
       "    }\n",
       "\n",
       "    .dataframe thead th {\n",
       "        text-align: right;\n",
       "    }\n",
       "</style>\n",
       "<table border=\"1\" class=\"dataframe\">\n",
       "  <thead>\n",
       "    <tr style=\"text-align: right;\">\n",
       "      <th></th>\n",
       "      <th>ID</th>\n",
       "      <th>Source</th>\n",
       "      <th>Severity</th>\n",
       "      <th>Start_Time</th>\n",
       "      <th>End_Time</th>\n",
       "      <th>Start_Lat</th>\n",
       "      <th>Start_Lng</th>\n",
       "      <th>End_Lat</th>\n",
       "      <th>End_Lng</th>\n",
       "      <th>Distance(mi)</th>\n",
       "      <th>...</th>\n",
       "      <th>Roundabout</th>\n",
       "      <th>Station</th>\n",
       "      <th>Stop</th>\n",
       "      <th>Traffic_Calming</th>\n",
       "      <th>Traffic_Signal</th>\n",
       "      <th>Turning_Loop</th>\n",
       "      <th>Sunrise_Sunset</th>\n",
       "      <th>Civil_Twilight</th>\n",
       "      <th>Nautical_Twilight</th>\n",
       "      <th>Astronomical_Twilight</th>\n",
       "    </tr>\n",
       "  </thead>\n",
       "  <tbody>\n",
       "    <tr>\n",
       "      <th>0</th>\n",
       "      <td>A-1</td>\n",
       "      <td>Source2</td>\n",
       "      <td>3</td>\n",
       "      <td>2016-02-08 05:46:00</td>\n",
       "      <td>2016-02-08 11:00:00</td>\n",
       "      <td>39.865147</td>\n",
       "      <td>-84.058723</td>\n",
       "      <td>NaN</td>\n",
       "      <td>NaN</td>\n",
       "      <td>0.01</td>\n",
       "      <td>...</td>\n",
       "      <td>False</td>\n",
       "      <td>False</td>\n",
       "      <td>False</td>\n",
       "      <td>False</td>\n",
       "      <td>False</td>\n",
       "      <td>False</td>\n",
       "      <td>Night</td>\n",
       "      <td>Night</td>\n",
       "      <td>Night</td>\n",
       "      <td>Night</td>\n",
       "    </tr>\n",
       "    <tr>\n",
       "      <th>1</th>\n",
       "      <td>A-2</td>\n",
       "      <td>Source2</td>\n",
       "      <td>2</td>\n",
       "      <td>2016-02-08 06:07:59</td>\n",
       "      <td>2016-02-08 06:37:59</td>\n",
       "      <td>39.928059</td>\n",
       "      <td>-82.831184</td>\n",
       "      <td>NaN</td>\n",
       "      <td>NaN</td>\n",
       "      <td>0.01</td>\n",
       "      <td>...</td>\n",
       "      <td>False</td>\n",
       "      <td>False</td>\n",
       "      <td>False</td>\n",
       "      <td>False</td>\n",
       "      <td>False</td>\n",
       "      <td>False</td>\n",
       "      <td>Night</td>\n",
       "      <td>Night</td>\n",
       "      <td>Night</td>\n",
       "      <td>Day</td>\n",
       "    </tr>\n",
       "    <tr>\n",
       "      <th>2</th>\n",
       "      <td>A-3</td>\n",
       "      <td>Source2</td>\n",
       "      <td>2</td>\n",
       "      <td>2016-02-08 06:49:27</td>\n",
       "      <td>2016-02-08 07:19:27</td>\n",
       "      <td>39.063148</td>\n",
       "      <td>-84.032608</td>\n",
       "      <td>NaN</td>\n",
       "      <td>NaN</td>\n",
       "      <td>0.01</td>\n",
       "      <td>...</td>\n",
       "      <td>False</td>\n",
       "      <td>False</td>\n",
       "      <td>False</td>\n",
       "      <td>False</td>\n",
       "      <td>True</td>\n",
       "      <td>False</td>\n",
       "      <td>Night</td>\n",
       "      <td>Night</td>\n",
       "      <td>Day</td>\n",
       "      <td>Day</td>\n",
       "    </tr>\n",
       "    <tr>\n",
       "      <th>3</th>\n",
       "      <td>A-4</td>\n",
       "      <td>Source2</td>\n",
       "      <td>3</td>\n",
       "      <td>2016-02-08 07:23:34</td>\n",
       "      <td>2016-02-08 07:53:34</td>\n",
       "      <td>39.747753</td>\n",
       "      <td>-84.205582</td>\n",
       "      <td>NaN</td>\n",
       "      <td>NaN</td>\n",
       "      <td>0.01</td>\n",
       "      <td>...</td>\n",
       "      <td>False</td>\n",
       "      <td>False</td>\n",
       "      <td>False</td>\n",
       "      <td>False</td>\n",
       "      <td>False</td>\n",
       "      <td>False</td>\n",
       "      <td>Night</td>\n",
       "      <td>Day</td>\n",
       "      <td>Day</td>\n",
       "      <td>Day</td>\n",
       "    </tr>\n",
       "    <tr>\n",
       "      <th>4</th>\n",
       "      <td>A-5</td>\n",
       "      <td>Source2</td>\n",
       "      <td>2</td>\n",
       "      <td>2016-02-08 07:39:07</td>\n",
       "      <td>2016-02-08 08:09:07</td>\n",
       "      <td>39.627781</td>\n",
       "      <td>-84.188354</td>\n",
       "      <td>NaN</td>\n",
       "      <td>NaN</td>\n",
       "      <td>0.01</td>\n",
       "      <td>...</td>\n",
       "      <td>False</td>\n",
       "      <td>False</td>\n",
       "      <td>False</td>\n",
       "      <td>False</td>\n",
       "      <td>True</td>\n",
       "      <td>False</td>\n",
       "      <td>Day</td>\n",
       "      <td>Day</td>\n",
       "      <td>Day</td>\n",
       "      <td>Day</td>\n",
       "    </tr>\n",
       "  </tbody>\n",
       "</table>\n",
       "<p>5 rows × 46 columns</p>\n",
       "</div>"
      ],
      "text/plain": [
       "    ID   Source  Severity           Start_Time             End_Time   \n",
       "0  A-1  Source2         3  2016-02-08 05:46:00  2016-02-08 11:00:00  \\\n",
       "1  A-2  Source2         2  2016-02-08 06:07:59  2016-02-08 06:37:59   \n",
       "2  A-3  Source2         2  2016-02-08 06:49:27  2016-02-08 07:19:27   \n",
       "3  A-4  Source2         3  2016-02-08 07:23:34  2016-02-08 07:53:34   \n",
       "4  A-5  Source2         2  2016-02-08 07:39:07  2016-02-08 08:09:07   \n",
       "\n",
       "   Start_Lat  Start_Lng  End_Lat  End_Lng  Distance(mi)  ... Roundabout   \n",
       "0  39.865147 -84.058723      NaN      NaN          0.01  ...      False  \\\n",
       "1  39.928059 -82.831184      NaN      NaN          0.01  ...      False   \n",
       "2  39.063148 -84.032608      NaN      NaN          0.01  ...      False   \n",
       "3  39.747753 -84.205582      NaN      NaN          0.01  ...      False   \n",
       "4  39.627781 -84.188354      NaN      NaN          0.01  ...      False   \n",
       "\n",
       "  Station   Stop Traffic_Calming Traffic_Signal Turning_Loop Sunrise_Sunset   \n",
       "0   False  False           False          False        False          Night  \\\n",
       "1   False  False           False          False        False          Night   \n",
       "2   False  False           False           True        False          Night   \n",
       "3   False  False           False          False        False          Night   \n",
       "4   False  False           False           True        False            Day   \n",
       "\n",
       "  Civil_Twilight Nautical_Twilight Astronomical_Twilight  \n",
       "0          Night             Night                 Night  \n",
       "1          Night             Night                   Day  \n",
       "2          Night               Day                   Day  \n",
       "3            Day               Day                   Day  \n",
       "4            Day               Day                   Day  \n",
       "\n",
       "[5 rows x 46 columns]"
      ]
     },
     "execution_count": 4,
     "metadata": {},
     "output_type": "execute_result"
    }
   ],
   "source": [
    "df.head(5)"
   ]
  },
  {
   "cell_type": "code",
   "execution_count": 5,
   "id": "da4f9bdf",
   "metadata": {},
   "outputs": [
    {
     "name": "stdout",
     "output_type": "stream",
     "text": [
      "<class 'pandas.core.frame.DataFrame'>\n",
      "RangeIndex: 7728394 entries, 0 to 7728393\n",
      "Data columns (total 46 columns):\n",
      " #   Column                 Dtype  \n",
      "---  ------                 -----  \n",
      " 0   ID                     object \n",
      " 1   Source                 object \n",
      " 2   Severity               int64  \n",
      " 3   Start_Time             object \n",
      " 4   End_Time               object \n",
      " 5   Start_Lat              float64\n",
      " 6   Start_Lng              float64\n",
      " 7   End_Lat                float64\n",
      " 8   End_Lng                float64\n",
      " 9   Distance(mi)           float64\n",
      " 10  Description            object \n",
      " 11  Street                 object \n",
      " 12  City                   object \n",
      " 13  County                 object \n",
      " 14  State                  object \n",
      " 15  Zipcode                object \n",
      " 16  Country                object \n",
      " 17  Timezone               object \n",
      " 18  Airport_Code           object \n",
      " 19  Weather_Timestamp      object \n",
      " 20  Temperature(F)         float64\n",
      " 21  Wind_Chill(F)          float64\n",
      " 22  Humidity(%)            float64\n",
      " 23  Pressure(in)           float64\n",
      " 24  Visibility(mi)         float64\n",
      " 25  Wind_Direction         object \n",
      " 26  Wind_Speed(mph)        float64\n",
      " 27  Precipitation(in)      float64\n",
      " 28  Weather_Condition      object \n",
      " 29  Amenity                bool   \n",
      " 30  Bump                   bool   \n",
      " 31  Crossing               bool   \n",
      " 32  Give_Way               bool   \n",
      " 33  Junction               bool   \n",
      " 34  No_Exit                bool   \n",
      " 35  Railway                bool   \n",
      " 36  Roundabout             bool   \n",
      " 37  Station                bool   \n",
      " 38  Stop                   bool   \n",
      " 39  Traffic_Calming        bool   \n",
      " 40  Traffic_Signal         bool   \n",
      " 41  Turning_Loop           bool   \n",
      " 42  Sunrise_Sunset         object \n",
      " 43  Civil_Twilight         object \n",
      " 44  Nautical_Twilight      object \n",
      " 45  Astronomical_Twilight  object \n",
      "dtypes: bool(13), float64(12), int64(1), object(20)\n",
      "memory usage: 2.0+ GB\n"
     ]
    }
   ],
   "source": [
    "df.info()"
   ]
  },
  {
   "cell_type": "code",
   "execution_count": 6,
   "id": "69f0aab6",
   "metadata": {},
   "outputs": [
    {
     "data": {
      "text/plain": [
       "Index(['ID', 'Source', 'Severity', 'Start_Time', 'End_Time', 'Start_Lat',\n",
       "       'Start_Lng', 'End_Lat', 'End_Lng', 'Distance(mi)', 'Description',\n",
       "       'Street', 'City', 'County', 'State', 'Zipcode', 'Country', 'Timezone',\n",
       "       'Airport_Code', 'Weather_Timestamp', 'Temperature(F)', 'Wind_Chill(F)',\n",
       "       'Humidity(%)', 'Pressure(in)', 'Visibility(mi)', 'Wind_Direction',\n",
       "       'Wind_Speed(mph)', 'Precipitation(in)', 'Weather_Condition', 'Amenity',\n",
       "       'Bump', 'Crossing', 'Give_Way', 'Junction', 'No_Exit', 'Railway',\n",
       "       'Roundabout', 'Station', 'Stop', 'Traffic_Calming', 'Traffic_Signal',\n",
       "       'Turning_Loop', 'Sunrise_Sunset', 'Civil_Twilight', 'Nautical_Twilight',\n",
       "       'Astronomical_Twilight'],\n",
       "      dtype='object')"
      ]
     },
     "execution_count": 6,
     "metadata": {},
     "output_type": "execute_result"
    }
   ],
   "source": [
    "df.columns"
   ]
  },
  {
   "cell_type": "code",
   "execution_count": 7,
   "id": "2b082071",
   "metadata": {},
   "outputs": [],
   "source": [
    "df = df[['ID', 'Source', 'Severity', 'Start_Time', 'End_Time', \n",
    "    #'Start_Lat',\n",
    "       #'Start_Lng', 'End_Lat', 'End_Lng', \n",
    "    'Distance(mi)', 'Description',\n",
    "       'Street', 'City', \n",
    "    #'County', \n",
    "    'State', \n",
    "    #'Zipcode', \n",
    "    'Country', \n",
    "    #'Timezone',\n",
    "       #'Airport_Code', 'Weather_Timestamp', 'Temperature(F)', 'Wind_Chill(F)',\n",
    "       #'Humidity(%)', 'Pressure(in)', \n",
    "    'Visibility(mi)', \n",
    "    #'Wind_Direction',\n",
    "       #'Wind_Speed(mph)', 'Precipitation(in)', \n",
    "    'Weather_Condition', \n",
    "    #'Amenity',\n",
    "       #'Bump', \n",
    "    'Crossing',\n",
    "    #'Give_Way', \n",
    "    'Junction', \n",
    "    #'No_Exit', \n",
    "    #'Railway',\n",
    "      # 'Roundabout', 'Station', 'Stop', \n",
    "    #'Traffic_Calming', \n",
    "    'Traffic_Signal',\n",
    "       'Turning_Loop', 'Sunrise_Sunset',\n",
    "    #'Civil_Twilight', 'Nautical_Twilight',\n",
    "     #  'Astronomical_Twilight'\n",
    "   ]]"
   ]
  },
  {
   "cell_type": "code",
   "execution_count": 8,
   "id": "6f36727d",
   "metadata": {},
   "outputs": [
    {
     "data": {
      "text/plain": [
       "(7728394, 18)"
      ]
     },
     "execution_count": 8,
     "metadata": {},
     "output_type": "execute_result"
    }
   ],
   "source": [
    "df.shape"
   ]
  },
  {
   "cell_type": "code",
   "execution_count": 9,
   "id": "aaefbf7a",
   "metadata": {},
   "outputs": [
    {
     "name": "stdout",
     "output_type": "stream",
     "text": [
      "<class 'pandas.core.frame.DataFrame'>\n",
      "RangeIndex: 7728394 entries, 0 to 7728393\n",
      "Data columns (total 18 columns):\n",
      " #   Column             Dtype  \n",
      "---  ------             -----  \n",
      " 0   ID                 object \n",
      " 1   Source             object \n",
      " 2   Severity           int64  \n",
      " 3   Start_Time         object \n",
      " 4   End_Time           object \n",
      " 5   Distance(mi)       float64\n",
      " 6   Description        object \n",
      " 7   Street             object \n",
      " 8   City               object \n",
      " 9   State              object \n",
      " 10  Country            object \n",
      " 11  Visibility(mi)     float64\n",
      " 12  Weather_Condition  object \n",
      " 13  Crossing           bool   \n",
      " 14  Junction           bool   \n",
      " 15  Traffic_Signal     bool   \n",
      " 16  Turning_Loop       bool   \n",
      " 17  Sunrise_Sunset     object \n",
      "dtypes: bool(4), float64(2), int64(1), object(11)\n",
      "memory usage: 855.0+ MB\n"
     ]
    }
   ],
   "source": [
    "df.info()"
   ]
  },
  {
   "cell_type": "code",
   "execution_count": 10,
   "id": "4cbce437",
   "metadata": {},
   "outputs": [
    {
     "data": {
      "text/plain": [
       "ID                        0\n",
       "Source                    0\n",
       "Severity                  0\n",
       "Start_Time                0\n",
       "End_Time                  0\n",
       "Distance(mi)              0\n",
       "Description               5\n",
       "Street                10869\n",
       "City                    253\n",
       "State                     0\n",
       "Country                   0\n",
       "Visibility(mi)       177098\n",
       "Weather_Condition    173459\n",
       "Crossing                  0\n",
       "Junction                  0\n",
       "Traffic_Signal            0\n",
       "Turning_Loop              0\n",
       "Sunrise_Sunset        23246\n",
       "dtype: int64"
      ]
     },
     "execution_count": 10,
     "metadata": {},
     "output_type": "execute_result"
    }
   ],
   "source": [
    "df.isna().sum()"
   ]
  },
  {
   "cell_type": "code",
   "execution_count": 11,
   "id": "0abc7282",
   "metadata": {},
   "outputs": [
    {
     "data": {
      "text/plain": [
       "array(['Right lane blocked due to accident on I-70 Eastbound at Exit 41 OH-235 State Route 4.',\n",
       "       'Accident on Brice Rd at Tussing Rd. Expect delays.',\n",
       "       'Accident on OH-32 State Route 32 Westbound at Dela Palma Rd. Expect delays.',\n",
       "       ..., 'Ramp closed to Bristol St - Road closed due to accident.',\n",
       "       'At Friars Rd - Accident. Center lane blocked.',\n",
       "       'Ramp closed to The City Dr/Exit 14A - Road closed due to accident.'],\n",
       "      dtype=object)"
      ]
     },
     "execution_count": 11,
     "metadata": {},
     "output_type": "execute_result"
    }
   ],
   "source": [
    "df['Description'].unique()"
   ]
  },
  {
   "cell_type": "code",
   "execution_count": 12,
   "id": "370b419b",
   "metadata": {},
   "outputs": [
    {
     "data": {
      "text/plain": [
       "Description\n",
       "A crash has occurred causing no to minimum delays. Use caution.                                        9593\n",
       "Accident                                                                                               6616\n",
       "An unconfirmed report of a crash has been received. Use caution.                                       3799\n",
       "A crash has occurred use caution.                                                                      2894\n",
       "A crash has occurred with minimal delay to traffic. Prepare to slow or move over for worker safety.    2672\n",
       "                                                                                                       ... \n",
       "Accident on 49th St at Odell St.                                                                          1\n",
       "Accident on Royal Ascot Ave at Coursey Blvd.                                                              1\n",
       "Accident on LA-3245 O'neal Ln at I-12.                                                                    1\n",
       "Accident on Riverbend Blvd at Brightside Dr.                                                              1\n",
       "Ramp closed to The City Dr/Exit 14A - Road closed due to accident.                                        1\n",
       "Name: count, Length: 3761578, dtype: int64"
      ]
     },
     "execution_count": 12,
     "metadata": {},
     "output_type": "execute_result"
    }
   ],
   "source": [
    "df['Description'].value_counts()"
   ]
  },
  {
   "cell_type": "code",
   "execution_count": 13,
   "id": "92349185",
   "metadata": {},
   "outputs": [],
   "source": [
    "df.drop(columns = {'Description','Street'}, inplace = True)"
   ]
  },
  {
   "cell_type": "code",
   "execution_count": 14,
   "id": "c78fe145",
   "metadata": {},
   "outputs": [
    {
     "data": {
      "text/html": [
       "<div>\n",
       "<style scoped>\n",
       "    .dataframe tbody tr th:only-of-type {\n",
       "        vertical-align: middle;\n",
       "    }\n",
       "\n",
       "    .dataframe tbody tr th {\n",
       "        vertical-align: top;\n",
       "    }\n",
       "\n",
       "    .dataframe thead th {\n",
       "        text-align: right;\n",
       "    }\n",
       "</style>\n",
       "<table border=\"1\" class=\"dataframe\">\n",
       "  <thead>\n",
       "    <tr style=\"text-align: right;\">\n",
       "      <th></th>\n",
       "      <th>ID</th>\n",
       "      <th>Source</th>\n",
       "      <th>Severity</th>\n",
       "      <th>Start_Time</th>\n",
       "      <th>End_Time</th>\n",
       "      <th>Distance(mi)</th>\n",
       "      <th>City</th>\n",
       "      <th>State</th>\n",
       "      <th>Country</th>\n",
       "      <th>Visibility(mi)</th>\n",
       "      <th>Weather_Condition</th>\n",
       "      <th>Crossing</th>\n",
       "      <th>Junction</th>\n",
       "      <th>Traffic_Signal</th>\n",
       "      <th>Turning_Loop</th>\n",
       "      <th>Sunrise_Sunset</th>\n",
       "    </tr>\n",
       "  </thead>\n",
       "  <tbody>\n",
       "    <tr>\n",
       "      <th>0</th>\n",
       "      <td>A-1</td>\n",
       "      <td>Source2</td>\n",
       "      <td>3</td>\n",
       "      <td>2016-02-08 05:46:00</td>\n",
       "      <td>2016-02-08 11:00:00</td>\n",
       "      <td>0.01</td>\n",
       "      <td>Dayton</td>\n",
       "      <td>OH</td>\n",
       "      <td>US</td>\n",
       "      <td>10.0</td>\n",
       "      <td>Light Rain</td>\n",
       "      <td>False</td>\n",
       "      <td>False</td>\n",
       "      <td>False</td>\n",
       "      <td>False</td>\n",
       "      <td>Night</td>\n",
       "    </tr>\n",
       "    <tr>\n",
       "      <th>1</th>\n",
       "      <td>A-2</td>\n",
       "      <td>Source2</td>\n",
       "      <td>2</td>\n",
       "      <td>2016-02-08 06:07:59</td>\n",
       "      <td>2016-02-08 06:37:59</td>\n",
       "      <td>0.01</td>\n",
       "      <td>Reynoldsburg</td>\n",
       "      <td>OH</td>\n",
       "      <td>US</td>\n",
       "      <td>10.0</td>\n",
       "      <td>Light Rain</td>\n",
       "      <td>False</td>\n",
       "      <td>False</td>\n",
       "      <td>False</td>\n",
       "      <td>False</td>\n",
       "      <td>Night</td>\n",
       "    </tr>\n",
       "    <tr>\n",
       "      <th>2</th>\n",
       "      <td>A-3</td>\n",
       "      <td>Source2</td>\n",
       "      <td>2</td>\n",
       "      <td>2016-02-08 06:49:27</td>\n",
       "      <td>2016-02-08 07:19:27</td>\n",
       "      <td>0.01</td>\n",
       "      <td>Williamsburg</td>\n",
       "      <td>OH</td>\n",
       "      <td>US</td>\n",
       "      <td>10.0</td>\n",
       "      <td>Overcast</td>\n",
       "      <td>False</td>\n",
       "      <td>False</td>\n",
       "      <td>True</td>\n",
       "      <td>False</td>\n",
       "      <td>Night</td>\n",
       "    </tr>\n",
       "    <tr>\n",
       "      <th>3</th>\n",
       "      <td>A-4</td>\n",
       "      <td>Source2</td>\n",
       "      <td>3</td>\n",
       "      <td>2016-02-08 07:23:34</td>\n",
       "      <td>2016-02-08 07:53:34</td>\n",
       "      <td>0.01</td>\n",
       "      <td>Dayton</td>\n",
       "      <td>OH</td>\n",
       "      <td>US</td>\n",
       "      <td>9.0</td>\n",
       "      <td>Mostly Cloudy</td>\n",
       "      <td>False</td>\n",
       "      <td>False</td>\n",
       "      <td>False</td>\n",
       "      <td>False</td>\n",
       "      <td>Night</td>\n",
       "    </tr>\n",
       "    <tr>\n",
       "      <th>4</th>\n",
       "      <td>A-5</td>\n",
       "      <td>Source2</td>\n",
       "      <td>2</td>\n",
       "      <td>2016-02-08 07:39:07</td>\n",
       "      <td>2016-02-08 08:09:07</td>\n",
       "      <td>0.01</td>\n",
       "      <td>Dayton</td>\n",
       "      <td>OH</td>\n",
       "      <td>US</td>\n",
       "      <td>6.0</td>\n",
       "      <td>Mostly Cloudy</td>\n",
       "      <td>False</td>\n",
       "      <td>False</td>\n",
       "      <td>True</td>\n",
       "      <td>False</td>\n",
       "      <td>Day</td>\n",
       "    </tr>\n",
       "  </tbody>\n",
       "</table>\n",
       "</div>"
      ],
      "text/plain": [
       "    ID   Source  Severity           Start_Time             End_Time   \n",
       "0  A-1  Source2         3  2016-02-08 05:46:00  2016-02-08 11:00:00  \\\n",
       "1  A-2  Source2         2  2016-02-08 06:07:59  2016-02-08 06:37:59   \n",
       "2  A-3  Source2         2  2016-02-08 06:49:27  2016-02-08 07:19:27   \n",
       "3  A-4  Source2         3  2016-02-08 07:23:34  2016-02-08 07:53:34   \n",
       "4  A-5  Source2         2  2016-02-08 07:39:07  2016-02-08 08:09:07   \n",
       "\n",
       "   Distance(mi)          City State Country  Visibility(mi) Weather_Condition   \n",
       "0          0.01        Dayton    OH      US            10.0        Light Rain  \\\n",
       "1          0.01  Reynoldsburg    OH      US            10.0        Light Rain   \n",
       "2          0.01  Williamsburg    OH      US            10.0          Overcast   \n",
       "3          0.01        Dayton    OH      US             9.0     Mostly Cloudy   \n",
       "4          0.01        Dayton    OH      US             6.0     Mostly Cloudy   \n",
       "\n",
       "   Crossing  Junction  Traffic_Signal  Turning_Loop Sunrise_Sunset  \n",
       "0     False     False           False         False          Night  \n",
       "1     False     False           False         False          Night  \n",
       "2     False     False            True         False          Night  \n",
       "3     False     False           False         False          Night  \n",
       "4     False     False            True         False            Day  "
      ]
     },
     "execution_count": 14,
     "metadata": {},
     "output_type": "execute_result"
    }
   ],
   "source": [
    "df.head(5)"
   ]
  },
  {
   "cell_type": "code",
   "execution_count": 15,
   "id": "7830fe8a",
   "metadata": {},
   "outputs": [
    {
     "data": {
      "text/plain": [
       "Source\n",
       "Source1    4325632\n",
       "Source2    3305373\n",
       "Source3      97389\n",
       "Name: count, dtype: int64"
      ]
     },
     "execution_count": 15,
     "metadata": {},
     "output_type": "execute_result"
    }
   ],
   "source": [
    "df['Source'].value_counts()"
   ]
  },
  {
   "cell_type": "code",
   "execution_count": 16,
   "id": "a20b4c7d",
   "metadata": {},
   "outputs": [
    {
     "data": {
      "text/plain": [
       "ID                        0\n",
       "Source                    0\n",
       "Severity                  0\n",
       "Start_Time                0\n",
       "End_Time                  0\n",
       "Distance(mi)              0\n",
       "City                    253\n",
       "State                     0\n",
       "Country                   0\n",
       "Visibility(mi)       177098\n",
       "Weather_Condition    173459\n",
       "Crossing                  0\n",
       "Junction                  0\n",
       "Traffic_Signal            0\n",
       "Turning_Loop              0\n",
       "Sunrise_Sunset        23246\n",
       "dtype: int64"
      ]
     },
     "execution_count": 16,
     "metadata": {},
     "output_type": "execute_result"
    }
   ],
   "source": [
    "df.isna().sum()"
   ]
  },
  {
   "cell_type": "code",
   "execution_count": 17,
   "id": "befa9307",
   "metadata": {},
   "outputs": [
    {
     "data": {
      "text/plain": [
       "array(['Dayton', 'Reynoldsburg', 'Williamsburg', ..., 'Ness City',\n",
       "       'Clarksdale', 'American Fork-Pleasant Grove'], dtype=object)"
      ]
     },
     "execution_count": 17,
     "metadata": {},
     "output_type": "execute_result"
    }
   ],
   "source": [
    "df['City'].unique()"
   ]
  },
  {
   "cell_type": "code",
   "execution_count": 18,
   "id": "2130be9f",
   "metadata": {},
   "outputs": [
    {
     "data": {
      "text/plain": [
       "City\n",
       "Miami                           186917\n",
       "Houston                         169609\n",
       "Los Angeles                     156491\n",
       "Charlotte                       138652\n",
       "Dallas                          130939\n",
       "                                 ...  \n",
       "Benkelman                            1\n",
       "Old Appleton                         1\n",
       "Wildrose                             1\n",
       "Mc Nabb                              1\n",
       "American Fork-Pleasant Grove         1\n",
       "Name: count, Length: 13678, dtype: int64"
      ]
     },
     "execution_count": 18,
     "metadata": {},
     "output_type": "execute_result"
    }
   ],
   "source": [
    "df['City'].value_counts()"
   ]
  },
  {
   "cell_type": "code",
   "execution_count": 19,
   "id": "287b4445",
   "metadata": {},
   "outputs": [],
   "source": [
    "df['City'].fillna(value = 'Miami', inplace = True)"
   ]
  },
  {
   "cell_type": "code",
   "execution_count": 20,
   "id": "fd27111c",
   "metadata": {},
   "outputs": [
    {
     "data": {
      "text/plain": [
       "0"
      ]
     },
     "execution_count": 20,
     "metadata": {},
     "output_type": "execute_result"
    }
   ],
   "source": [
    "df['City'].isna().sum()"
   ]
  },
  {
   "cell_type": "code",
   "execution_count": 21,
   "id": "78848a37",
   "metadata": {},
   "outputs": [
    {
     "data": {
      "text/plain": [
       "ID                        0\n",
       "Source                    0\n",
       "Severity                  0\n",
       "Start_Time                0\n",
       "End_Time                  0\n",
       "Distance(mi)              0\n",
       "City                      0\n",
       "State                     0\n",
       "Country                   0\n",
       "Visibility(mi)       177098\n",
       "Weather_Condition    173459\n",
       "Crossing                  0\n",
       "Junction                  0\n",
       "Traffic_Signal            0\n",
       "Turning_Loop              0\n",
       "Sunrise_Sunset        23246\n",
       "dtype: int64"
      ]
     },
     "execution_count": 21,
     "metadata": {},
     "output_type": "execute_result"
    }
   ],
   "source": [
    "df.isna().sum()"
   ]
  },
  {
   "cell_type": "code",
   "execution_count": 22,
   "id": "5682fc0d",
   "metadata": {},
   "outputs": [],
   "source": [
    "df.dropna(how = 'all', inplace = True)"
   ]
  },
  {
   "cell_type": "code",
   "execution_count": 23,
   "id": "59354365",
   "metadata": {},
   "outputs": [
    {
     "data": {
      "text/plain": [
       "ID                        0\n",
       "Source                    0\n",
       "Severity                  0\n",
       "Start_Time                0\n",
       "End_Time                  0\n",
       "Distance(mi)              0\n",
       "City                      0\n",
       "State                     0\n",
       "Country                   0\n",
       "Visibility(mi)       177098\n",
       "Weather_Condition    173459\n",
       "Crossing                  0\n",
       "Junction                  0\n",
       "Traffic_Signal            0\n",
       "Turning_Loop              0\n",
       "Sunrise_Sunset        23246\n",
       "dtype: int64"
      ]
     },
     "execution_count": 23,
     "metadata": {},
     "output_type": "execute_result"
    }
   ],
   "source": [
    "df.isna().sum()"
   ]
  },
  {
   "cell_type": "code",
   "execution_count": 24,
   "id": "5a09a43c",
   "metadata": {},
   "outputs": [
    {
     "data": {
      "text/plain": [
       "92"
      ]
     },
     "execution_count": 24,
     "metadata": {},
     "output_type": "execute_result"
    }
   ],
   "source": [
    "df['Visibility(mi)'].nunique()"
   ]
  },
  {
   "cell_type": "code",
   "execution_count": 25,
   "id": "00b09e11",
   "metadata": {},
   "outputs": [
    {
     "data": {
      "text/plain": [
       "Visibility(mi)\n",
       "10.0     6070231\n",
       "7.0       217027\n",
       "9.0       188529\n",
       "8.0       149975\n",
       "5.0       144153\n",
       "          ...   \n",
       "78.0           1\n",
       "101.0          1\n",
       "72.0           1\n",
       "67.0           1\n",
       "43.0           1\n",
       "Name: count, Length: 92, dtype: int64"
      ]
     },
     "execution_count": 25,
     "metadata": {},
     "output_type": "execute_result"
    }
   ],
   "source": [
    "df['Visibility(mi)'].value_counts()"
   ]
  },
  {
   "cell_type": "code",
   "execution_count": 26,
   "id": "52a2048f",
   "metadata": {},
   "outputs": [],
   "source": [
    "avg = np.mean(df['Visibility(mi)'])"
   ]
  },
  {
   "cell_type": "code",
   "execution_count": 27,
   "id": "5909dedb",
   "metadata": {},
   "outputs": [],
   "source": [
    "df['Visibility(mi)'].fillna(value = avg, inplace = True)"
   ]
  },
  {
   "cell_type": "code",
   "execution_count": 28,
   "id": "00ffab7c",
   "metadata": {},
   "outputs": [
    {
     "data": {
      "text/plain": [
       "0          10\n",
       "1          10\n",
       "2          10\n",
       "3           9\n",
       "4           6\n",
       "           ..\n",
       "7728389    10\n",
       "7728390    10\n",
       "7728391    10\n",
       "7728392    10\n",
       "7728393     7\n",
       "Name: Visibility(mi), Length: 7728394, dtype: int32"
      ]
     },
     "execution_count": 28,
     "metadata": {},
     "output_type": "execute_result"
    }
   ],
   "source": [
    "df['Visibility(mi)'].astype('int')"
   ]
  },
  {
   "cell_type": "code",
   "execution_count": 29,
   "id": "97740c05",
   "metadata": {},
   "outputs": [
    {
     "data": {
      "text/plain": [
       "ID                        0\n",
       "Source                    0\n",
       "Severity                  0\n",
       "Start_Time                0\n",
       "End_Time                  0\n",
       "Distance(mi)              0\n",
       "City                      0\n",
       "State                     0\n",
       "Country                   0\n",
       "Visibility(mi)            0\n",
       "Weather_Condition    173459\n",
       "Crossing                  0\n",
       "Junction                  0\n",
       "Traffic_Signal            0\n",
       "Turning_Loop              0\n",
       "Sunrise_Sunset        23246\n",
       "dtype: int64"
      ]
     },
     "execution_count": 29,
     "metadata": {},
     "output_type": "execute_result"
    }
   ],
   "source": [
    "df.isna().sum()"
   ]
  },
  {
   "cell_type": "code",
   "execution_count": 30,
   "id": "00890fc0",
   "metadata": {},
   "outputs": [
    {
     "data": {
      "text/plain": [
       "array(['Light Rain', 'Overcast', 'Mostly Cloudy', 'Rain', 'Light Snow',\n",
       "       'Haze', 'Scattered Clouds', 'Partly Cloudy', 'Clear', 'Snow',\n",
       "       'Light Freezing Drizzle', 'Light Drizzle', 'Fog', 'Shallow Fog',\n",
       "       'Heavy Rain', 'Light Freezing Rain', 'Cloudy', 'Drizzle', nan,\n",
       "       'Light Rain Showers', 'Mist', 'Smoke', 'Patches of Fog',\n",
       "       'Light Freezing Fog', 'Light Haze', 'Light Thunderstorms and Rain',\n",
       "       'Thunderstorms and Rain', 'Fair', 'Volcanic Ash', 'Blowing Sand',\n",
       "       'Blowing Dust / Windy', 'Widespread Dust', 'Fair / Windy',\n",
       "       'Rain Showers', 'Mostly Cloudy / Windy', 'Light Rain / Windy',\n",
       "       'Hail', 'Heavy Drizzle', 'Showers in the Vicinity', 'Thunderstorm',\n",
       "       'Light Rain Shower', 'Light Rain with Thunder',\n",
       "       'Partly Cloudy / Windy', 'Thunder in the Vicinity', 'T-Storm',\n",
       "       'Heavy Thunderstorms and Rain', 'Thunder', 'Heavy T-Storm',\n",
       "       'Funnel Cloud', 'Heavy T-Storm / Windy', 'Blowing Snow',\n",
       "       'Light Thunderstorms and Snow', 'Heavy Snow', 'Low Drifting Snow',\n",
       "       'Light Ice Pellets', 'Ice Pellets', 'Squalls', 'N/A Precipitation',\n",
       "       'Cloudy / Windy', 'Light Fog', 'Sand', 'Snow Grains',\n",
       "       'Snow Showers', 'Heavy Thunderstorms and Snow', 'Rain / Windy',\n",
       "       'Heavy Rain / Windy', 'Heavy Ice Pellets', 'Light Snow / Windy',\n",
       "       'Heavy Freezing Rain', 'Small Hail', 'Heavy Rain Showers',\n",
       "       'Thunder / Windy', 'Drizzle and Fog', 'T-Storm / Windy',\n",
       "       'Blowing Dust', 'Smoke / Windy', 'Haze / Windy', 'Tornado',\n",
       "       'Light Drizzle / Windy', 'Widespread Dust / Windy', 'Wintry Mix',\n",
       "       'Wintry Mix / Windy', 'Light Snow with Thunder', 'Fog / Windy',\n",
       "       'Snow and Thunder', 'Light Snow Shower', 'Sleet',\n",
       "       'Light Snow and Sleet', 'Snow / Windy', 'Rain Shower',\n",
       "       'Snow and Sleet', 'Light Sleet', 'Heavy Snow / Windy',\n",
       "       'Freezing Drizzle', 'Light Freezing Rain / Windy',\n",
       "       'Thunder / Wintry Mix', 'Blowing Snow / Windy', 'Freezing Rain',\n",
       "       'Light Snow and Sleet / Windy', 'Snow and Sleet / Windy',\n",
       "       'Sleet / Windy', 'Heavy Freezing Rain / Windy', 'Squalls / Windy',\n",
       "       'Light Rain Shower / Windy', 'Snow and Thunder / Windy',\n",
       "       'Light Sleet / Windy', 'Sand / Dust Whirlwinds', 'Mist / Windy',\n",
       "       'Drizzle / Windy', 'Duststorm', 'Sand / Dust Whirls Nearby',\n",
       "       'Thunder and Hail', 'Heavy Sleet', 'Freezing Rain / Windy',\n",
       "       'Light Snow Shower / Windy', 'Partial Fog',\n",
       "       'Thunder / Wintry Mix / Windy', 'Patches of Fog / Windy',\n",
       "       'Rain and Sleet', 'Light Snow Grains', 'Partial Fog / Windy',\n",
       "       'Sand / Dust Whirlwinds / Windy', 'Heavy Snow with Thunder',\n",
       "       'Light Snow Showers', 'Heavy Blowing Snow', 'Light Hail',\n",
       "       'Heavy Smoke', 'Heavy Thunderstorms with Small Hail',\n",
       "       'Light Thunderstorm', 'Heavy Freezing Drizzle',\n",
       "       'Light Blowing Snow', 'Thunderstorms and Snow', 'Dust Whirls',\n",
       "       'Rain Shower / Windy', 'Sleet and Thunder',\n",
       "       'Heavy Sleet and Thunder', 'Drifting Snow / Windy',\n",
       "       'Shallow Fog / Windy', 'Thunder and Hail / Windy',\n",
       "       'Heavy Sleet / Windy', 'Sand / Windy', 'Heavy Rain Shower / Windy',\n",
       "       'Blowing Snow Nearby', 'Heavy Rain Shower', 'Drifting Snow'],\n",
       "      dtype=object)"
      ]
     },
     "execution_count": 30,
     "metadata": {},
     "output_type": "execute_result"
    }
   ],
   "source": [
    "df['Weather_Condition'].unique()"
   ]
  },
  {
   "cell_type": "code",
   "execution_count": 31,
   "id": "983a6c2b",
   "metadata": {},
   "outputs": [
    {
     "data": {
      "text/plain": [
       "Weather_Condition\n",
       "Fair                         2560802\n",
       "Mostly Cloudy                1016195\n",
       "Cloudy                        817082\n",
       "Clear                         808743\n",
       "Partly Cloudy                 698972\n",
       "                              ...   \n",
       "Heavy Sleet / Windy                1\n",
       "Sand / Windy                       1\n",
       "Heavy Rain Shower / Windy          1\n",
       "Blowing Snow Nearby                1\n",
       "Drifting Snow                      1\n",
       "Name: count, Length: 144, dtype: int64"
      ]
     },
     "execution_count": 31,
     "metadata": {},
     "output_type": "execute_result"
    }
   ],
   "source": [
    "df['Weather_Condition'].value_counts()"
   ]
  },
  {
   "cell_type": "code",
   "execution_count": 32,
   "id": "9993eccd",
   "metadata": {},
   "outputs": [],
   "source": [
    "df['Weather_Condition'].fillna(value = 'Fair', inplace = True)"
   ]
  },
  {
   "cell_type": "code",
   "execution_count": 33,
   "id": "0e54af5a",
   "metadata": {},
   "outputs": [
    {
     "data": {
      "text/plain": [
       "ID                       0\n",
       "Source                   0\n",
       "Severity                 0\n",
       "Start_Time               0\n",
       "End_Time                 0\n",
       "Distance(mi)             0\n",
       "City                     0\n",
       "State                    0\n",
       "Country                  0\n",
       "Visibility(mi)           0\n",
       "Weather_Condition        0\n",
       "Crossing                 0\n",
       "Junction                 0\n",
       "Traffic_Signal           0\n",
       "Turning_Loop             0\n",
       "Sunrise_Sunset       23246\n",
       "dtype: int64"
      ]
     },
     "execution_count": 33,
     "metadata": {},
     "output_type": "execute_result"
    }
   ],
   "source": [
    "df.isna().sum()"
   ]
  },
  {
   "cell_type": "code",
   "execution_count": 34,
   "id": "5c205528",
   "metadata": {},
   "outputs": [
    {
     "data": {
      "text/plain": [
       "array(['Night', 'Day', nan], dtype=object)"
      ]
     },
     "execution_count": 34,
     "metadata": {},
     "output_type": "execute_result"
    }
   ],
   "source": [
    "df['Sunrise_Sunset'].unique()"
   ]
  },
  {
   "cell_type": "code",
   "execution_count": 35,
   "id": "b205900b",
   "metadata": {},
   "outputs": [
    {
     "data": {
      "text/plain": [
       "Sunrise_Sunset\n",
       "Day      5334553\n",
       "Night    2370595\n",
       "Name: count, dtype: int64"
      ]
     },
     "execution_count": 35,
     "metadata": {},
     "output_type": "execute_result"
    }
   ],
   "source": [
    "df['Sunrise_Sunset'].value_counts()"
   ]
  },
  {
   "cell_type": "code",
   "execution_count": 36,
   "id": "8bf37869",
   "metadata": {},
   "outputs": [],
   "source": [
    "df['Sunrise_Sunset'].fillna(value = 'Day', inplace = True)"
   ]
  },
  {
   "cell_type": "code",
   "execution_count": 37,
   "id": "e0774747",
   "metadata": {},
   "outputs": [
    {
     "data": {
      "text/plain": [
       "ID                   0\n",
       "Source               0\n",
       "Severity             0\n",
       "Start_Time           0\n",
       "End_Time             0\n",
       "Distance(mi)         0\n",
       "City                 0\n",
       "State                0\n",
       "Country              0\n",
       "Visibility(mi)       0\n",
       "Weather_Condition    0\n",
       "Crossing             0\n",
       "Junction             0\n",
       "Traffic_Signal       0\n",
       "Turning_Loop         0\n",
       "Sunrise_Sunset       0\n",
       "dtype: int64"
      ]
     },
     "execution_count": 37,
     "metadata": {},
     "output_type": "execute_result"
    }
   ],
   "source": [
    "df.isna().sum()"
   ]
  },
  {
   "cell_type": "code",
   "execution_count": 38,
   "id": "df22ae59",
   "metadata": {},
   "outputs": [
    {
     "data": {
      "image/png": "[encoded data removed]",
      "text/plain": [
       "<Figure size 640x480 with 1 Axes>"
      ]
     },
     "metadata": {},
     "output_type": "display_data"
    }
   ],
   "source": [
    "ax = df.groupby(['Country','City'], as_index = False)['Severity'].sum().sort_values(by = 'Severity', ascending = False).head(10)\n",
    "ax = sns.barplot(x = 'City', y = 'Severity', hue = 'Country', data = ax)\n",
    "ax.set_title('country vs severity')\n",
    "sns.set(rc={'figure.figsize':(12,8)})\n",
    "for bars in ax.containers:\n",
    "    ax.bar_label(bars)"
   ]
  },
  {
   "cell_type": "code",
   "execution_count": 39,
   "id": "db24052a",
   "metadata": {},
   "outputs": [
    {
     "data": {
      "text/plain": [
       "Index(['ID', 'Source', 'Severity', 'Start_Time', 'End_Time', 'Distance(mi)',\n",
       "       'City', 'State', 'Country', 'Visibility(mi)', 'Weather_Condition',\n",
       "       'Crossing', 'Junction', 'Traffic_Signal', 'Turning_Loop',\n",
       "       'Sunrise_Sunset'],\n",
       "      dtype='object')"
      ]
     },
     "execution_count": 39,
     "metadata": {},
     "output_type": "execute_result"
    }
   ],
   "source": [
    "df.columns"
   ]
  },
  {
   "cell_type": "code",
   "execution_count": 40,
   "id": "71f3e62f",
   "metadata": {},
   "outputs": [
    {
     "data": {
      "image/png": "[encoded data removed]",
      "text/plain": [
       "<Figure size 1200x800 with 1 Axes>"
      ]
     },
     "metadata": {},
     "output_type": "display_data"
    }
   ],
   "source": [
    "ax = df.groupby(['State', 'City'], as_index = False)['Distance(mi)'].sum().sort_values(by = 'Distance(mi)', ascending = False).head(10)\n",
    "sns.barplot(x = 'City', y = 'Distance(mi)', hue = 'State', data = ax).set(title = 'City vs Impact distance')\n",
    "sns.set(rc={'figure.figsize':(12,8)})"
   ]
  },
  {
   "cell_type": "code",
   "execution_count": 41,
   "id": "44046e77",
   "metadata": {},
   "outputs": [
    {
     "data": {
      "text/plain": [
       "144"
      ]
     },
     "execution_count": 41,
     "metadata": {},
     "output_type": "execute_result"
    }
   ],
   "source": [
    "df['Weather_Condition'].nunique()"
   ]
  },
  {
   "cell_type": "code",
   "execution_count": 42,
   "id": "bea81836",
   "metadata": {},
   "outputs": [
    {
     "data": {
      "text/plain": [
       "<Axes: xlabel='State', ylabel='Visibility(mi)'>"
      ]
     },
     "execution_count": 42,
     "metadata": {},
     "output_type": "execute_result"
    },
    {
     "data": {
      "image/png": "[encoded data removed]",
      "text/plain": [
       "<Figure size 1200x800 with 1 Axes>"
      ]
     },
     "metadata": {},
     "output_type": "display_data"
    }
   ],
   "source": [
    "ax = df.groupby(['City', 'Weather_Condition', 'State'], as_index = False)['Visibility(mi)'].sum().sort_values(by = 'Visibility(mi)',ascending = False).head(5)\n",
    "sns.barplot(x = 'State', y = 'Visibility(mi)', hue = 'City', data = ax)"
   ]
  },
  {
   "cell_type": "code",
   "execution_count": 43,
   "id": "17c0f314",
   "metadata": {},
   "outputs": [
    {
     "data": {
      "text/plain": [
       "<Axes: xlabel='Visibility(mi)', ylabel='Weather_Condition'>"
      ]
     },
     "execution_count": 43,
     "metadata": {},
     "output_type": "execute_result"
    },
    {
     "data": {
      "image/png": "[encoded data removed]",
      "text/plain": [
       "<Figure size 1200x800 with 1 Axes>"
      ]
     },
     "metadata": {},
     "output_type": "display_data"
    }
   ],
   "source": [
    "ax = df.groupby(['City', 'Weather_Condition', 'State'], as_index = False)['Visibility(mi)'].sum().sort_values(by = 'Visibility(mi)',ascending = False).head(10)\n",
    "sns.barplot(x = 'Visibility(mi)', y = 'Weather_Condition', hue = 'City', data = ax)"
   ]
  },
  {
   "cell_type": "code",
   "execution_count": 49,
   "id": "09a7c924",
   "metadata": {},
   "outputs": [
    {
     "data": {
      "text/html": [
       "<div>\n",
       "<style scoped>\n",
       "    .dataframe tbody tr th:only-of-type {\n",
       "        vertical-align: middle;\n",
       "    }\n",
       "\n",
       "    .dataframe tbody tr th {\n",
       "        vertical-align: top;\n",
       "    }\n",
       "\n",
       "    .dataframe thead th {\n",
       "        text-align: right;\n",
       "    }\n",
       "</style>\n",
       "<table border=\"1\" class=\"dataframe\">\n",
       "  <thead>\n",
       "    <tr style=\"text-align: right;\">\n",
       "      <th></th>\n",
       "      <th>ID</th>\n",
       "      <th>Source</th>\n",
       "      <th>Severity</th>\n",
       "      <th>Start_Time</th>\n",
       "      <th>End_Time</th>\n",
       "      <th>Distance(mi)</th>\n",
       "      <th>City</th>\n",
       "      <th>State</th>\n",
       "      <th>Country</th>\n",
       "      <th>Visibility(mi)</th>\n",
       "      <th>Weather_Condition</th>\n",
       "      <th>Crossing</th>\n",
       "      <th>Junction</th>\n",
       "      <th>Traffic_Signal</th>\n",
       "      <th>Turning_Loop</th>\n",
       "      <th>Sunrise_Sunset</th>\n",
       "    </tr>\n",
       "  </thead>\n",
       "  <tbody>\n",
       "    <tr>\n",
       "      <th>0</th>\n",
       "      <td>A-1</td>\n",
       "      <td>Source2</td>\n",
       "      <td>3</td>\n",
       "      <td>2016-02-08 05:46:00</td>\n",
       "      <td>2016-02-08 11:00:00</td>\n",
       "      <td>0.010</td>\n",
       "      <td>Dayton</td>\n",
       "      <td>OH</td>\n",
       "      <td>US</td>\n",
       "      <td>10.0</td>\n",
       "      <td>Light Rain</td>\n",
       "      <td>False</td>\n",
       "      <td>False</td>\n",
       "      <td>False</td>\n",
       "      <td>False</td>\n",
       "      <td>Night</td>\n",
       "    </tr>\n",
       "    <tr>\n",
       "      <th>1</th>\n",
       "      <td>A-2</td>\n",
       "      <td>Source2</td>\n",
       "      <td>2</td>\n",
       "      <td>2016-02-08 06:07:59</td>\n",
       "      <td>2016-02-08 06:37:59</td>\n",
       "      <td>0.010</td>\n",
       "      <td>Reynoldsburg</td>\n",
       "      <td>OH</td>\n",
       "      <td>US</td>\n",
       "      <td>10.0</td>\n",
       "      <td>Light Rain</td>\n",
       "      <td>False</td>\n",
       "      <td>False</td>\n",
       "      <td>False</td>\n",
       "      <td>False</td>\n",
       "      <td>Night</td>\n",
       "    </tr>\n",
       "    <tr>\n",
       "      <th>5</th>\n",
       "      <td>A-6</td>\n",
       "      <td>Source2</td>\n",
       "      <td>3</td>\n",
       "      <td>2016-02-08 07:44:26</td>\n",
       "      <td>2016-02-08 08:14:26</td>\n",
       "      <td>0.010</td>\n",
       "      <td>Westerville</td>\n",
       "      <td>OH</td>\n",
       "      <td>US</td>\n",
       "      <td>7.0</td>\n",
       "      <td>Light Rain</td>\n",
       "      <td>False</td>\n",
       "      <td>False</td>\n",
       "      <td>False</td>\n",
       "      <td>False</td>\n",
       "      <td>Day</td>\n",
       "    </tr>\n",
       "    <tr>\n",
       "      <th>9</th>\n",
       "      <td>A-10</td>\n",
       "      <td>Source2</td>\n",
       "      <td>3</td>\n",
       "      <td>2016-02-08 08:10:04</td>\n",
       "      <td>2016-02-08 08:40:04</td>\n",
       "      <td>0.010</td>\n",
       "      <td>Westerville</td>\n",
       "      <td>OH</td>\n",
       "      <td>US</td>\n",
       "      <td>3.0</td>\n",
       "      <td>Light Rain</td>\n",
       "      <td>False</td>\n",
       "      <td>False</td>\n",
       "      <td>False</td>\n",
       "      <td>False</td>\n",
       "      <td>Day</td>\n",
       "    </tr>\n",
       "    <tr>\n",
       "      <th>11</th>\n",
       "      <td>A-12</td>\n",
       "      <td>Source2</td>\n",
       "      <td>3</td>\n",
       "      <td>2016-02-08 08:21:27</td>\n",
       "      <td>2016-02-08 08:51:27</td>\n",
       "      <td>0.010</td>\n",
       "      <td>Reynoldsburg</td>\n",
       "      <td>OH</td>\n",
       "      <td>US</td>\n",
       "      <td>3.0</td>\n",
       "      <td>Light Rain</td>\n",
       "      <td>False</td>\n",
       "      <td>False</td>\n",
       "      <td>False</td>\n",
       "      <td>False</td>\n",
       "      <td>Day</td>\n",
       "    </tr>\n",
       "    <tr>\n",
       "      <th>...</th>\n",
       "      <td>...</td>\n",
       "      <td>...</td>\n",
       "      <td>...</td>\n",
       "      <td>...</td>\n",
       "      <td>...</td>\n",
       "      <td>...</td>\n",
       "      <td>...</td>\n",
       "      <td>...</td>\n",
       "      <td>...</td>\n",
       "      <td>...</td>\n",
       "      <td>...</td>\n",
       "      <td>...</td>\n",
       "      <td>...</td>\n",
       "      <td>...</td>\n",
       "      <td>...</td>\n",
       "      <td>...</td>\n",
       "    </tr>\n",
       "    <tr>\n",
       "      <th>7728003</th>\n",
       "      <td>A-7777371</td>\n",
       "      <td>Source1</td>\n",
       "      <td>2</td>\n",
       "      <td>2019-08-23 14:00:27</td>\n",
       "      <td>2019-08-23 14:30:11</td>\n",
       "      <td>0.157</td>\n",
       "      <td>Staten Island</td>\n",
       "      <td>NY</td>\n",
       "      <td>US</td>\n",
       "      <td>10.0</td>\n",
       "      <td>Light Rain</td>\n",
       "      <td>False</td>\n",
       "      <td>False</td>\n",
       "      <td>False</td>\n",
       "      <td>False</td>\n",
       "      <td>Day</td>\n",
       "    </tr>\n",
       "    <tr>\n",
       "      <th>7728004</th>\n",
       "      <td>A-7777372</td>\n",
       "      <td>Source1</td>\n",
       "      <td>2</td>\n",
       "      <td>2019-08-23 14:16:17</td>\n",
       "      <td>2019-08-23 14:43:57</td>\n",
       "      <td>0.299</td>\n",
       "      <td>Wilmington</td>\n",
       "      <td>DE</td>\n",
       "      <td>US</td>\n",
       "      <td>7.0</td>\n",
       "      <td>Light Rain</td>\n",
       "      <td>False</td>\n",
       "      <td>False</td>\n",
       "      <td>False</td>\n",
       "      <td>False</td>\n",
       "      <td>Day</td>\n",
       "    </tr>\n",
       "    <tr>\n",
       "      <th>7728009</th>\n",
       "      <td>A-7777377</td>\n",
       "      <td>Source1</td>\n",
       "      <td>2</td>\n",
       "      <td>2019-08-23 16:44:35</td>\n",
       "      <td>2019-08-23 17:13:30</td>\n",
       "      <td>0.205</td>\n",
       "      <td>Manahawkin</td>\n",
       "      <td>NJ</td>\n",
       "      <td>US</td>\n",
       "      <td>10.0</td>\n",
       "      <td>Light Rain</td>\n",
       "      <td>False</td>\n",
       "      <td>False</td>\n",
       "      <td>False</td>\n",
       "      <td>False</td>\n",
       "      <td>Day</td>\n",
       "    </tr>\n",
       "    <tr>\n",
       "      <th>7728037</th>\n",
       "      <td>A-7777405</td>\n",
       "      <td>Source1</td>\n",
       "      <td>4</td>\n",
       "      <td>2019-08-23 19:08:30</td>\n",
       "      <td>2019-08-23 19:37:17</td>\n",
       "      <td>0.164</td>\n",
       "      <td>Smithfield</td>\n",
       "      <td>VA</td>\n",
       "      <td>US</td>\n",
       "      <td>10.0</td>\n",
       "      <td>Light Rain</td>\n",
       "      <td>False</td>\n",
       "      <td>False</td>\n",
       "      <td>False</td>\n",
       "      <td>False</td>\n",
       "      <td>Day</td>\n",
       "    </tr>\n",
       "    <tr>\n",
       "      <th>7728038</th>\n",
       "      <td>A-7777406</td>\n",
       "      <td>Source1</td>\n",
       "      <td>4</td>\n",
       "      <td>2019-08-23 19:08:30</td>\n",
       "      <td>2019-08-23 19:37:17</td>\n",
       "      <td>0.164</td>\n",
       "      <td>Smithfield</td>\n",
       "      <td>VA</td>\n",
       "      <td>US</td>\n",
       "      <td>10.0</td>\n",
       "      <td>Light Rain</td>\n",
       "      <td>False</td>\n",
       "      <td>False</td>\n",
       "      <td>False</td>\n",
       "      <td>False</td>\n",
       "      <td>Day</td>\n",
       "    </tr>\n",
       "  </tbody>\n",
       "</table>\n",
       "<p>352957 rows × 16 columns</p>\n",
       "</div>"
      ],
      "text/plain": [
       "                ID   Source  Severity           Start_Time   \n",
       "0              A-1  Source2         3  2016-02-08 05:46:00  \\\n",
       "1              A-2  Source2         2  2016-02-08 06:07:59   \n",
       "5              A-6  Source2         3  2016-02-08 07:44:26   \n",
       "9             A-10  Source2         3  2016-02-08 08:10:04   \n",
       "11            A-12  Source2         3  2016-02-08 08:21:27   \n",
       "...            ...      ...       ...                  ...   \n",
       "7728003  A-7777371  Source1         2  2019-08-23 14:00:27   \n",
       "7728004  A-7777372  Source1         2  2019-08-23 14:16:17   \n",
       "7728009  A-7777377  Source1         2  2019-08-23 16:44:35   \n",
       "7728037  A-7777405  Source1         4  2019-08-23 19:08:30   \n",
       "7728038  A-7777406  Source1         4  2019-08-23 19:08:30   \n",
       "\n",
       "                    End_Time  Distance(mi)           City State Country   \n",
       "0        2016-02-08 11:00:00         0.010         Dayton    OH      US  \\\n",
       "1        2016-02-08 06:37:59         0.010   Reynoldsburg    OH      US   \n",
       "5        2016-02-08 08:14:26         0.010    Westerville    OH      US   \n",
       "9        2016-02-08 08:40:04         0.010    Westerville    OH      US   \n",
       "11       2016-02-08 08:51:27         0.010   Reynoldsburg    OH      US   \n",
       "...                      ...           ...            ...   ...     ...   \n",
       "7728003  2019-08-23 14:30:11         0.157  Staten Island    NY      US   \n",
       "7728004  2019-08-23 14:43:57         0.299     Wilmington    DE      US   \n",
       "7728009  2019-08-23 17:13:30         0.205     Manahawkin    NJ      US   \n",
       "7728037  2019-08-23 19:37:17         0.164     Smithfield    VA      US   \n",
       "7728038  2019-08-23 19:37:17         0.164     Smithfield    VA      US   \n",
       "\n",
       "         Visibility(mi) Weather_Condition  Crossing  Junction  Traffic_Signal   \n",
       "0                  10.0        Light Rain     False     False           False  \\\n",
       "1                  10.0        Light Rain     False     False           False   \n",
       "5                   7.0        Light Rain     False     False           False   \n",
       "9                   3.0        Light Rain     False     False           False   \n",
       "11                  3.0        Light Rain     False     False           False   \n",
       "...                 ...               ...       ...       ...             ...   \n",
       "7728003            10.0        Light Rain     False     False           False   \n",
       "7728004             7.0        Light Rain     False     False           False   \n",
       "7728009            10.0        Light Rain     False     False           False   \n",
       "7728037            10.0        Light Rain     False     False           False   \n",
       "7728038            10.0        Light Rain     False     False           False   \n",
       "\n",
       "         Turning_Loop Sunrise_Sunset  \n",
       "0               False          Night  \n",
       "1               False          Night  \n",
       "5               False            Day  \n",
       "9               False            Day  \n",
       "11              False            Day  \n",
       "...               ...            ...  \n",
       "7728003         False            Day  \n",
       "7728004         False            Day  \n",
       "7728009         False            Day  \n",
       "7728037         False            Day  \n",
       "7728038         False            Day  \n",
       "\n",
       "[352957 rows x 16 columns]"
      ]
     },
     "execution_count": 49,
     "metadata": {},
     "output_type": "execute_result"
    }
   ],
   "source": [
    "df[df['Weather_Condition']== 'Light Rain']"
   ]
  },
  {
   "cell_type": "code",
   "execution_count": null,
   "id": "04367299",
   "metadata": {},
   "outputs": [],
   "source": []
  }
 ],
 "metadata": {
  "kernelspec": {
   "display_name": "Python 3 (ipykernel)",
   "language": "python",
   "name": "python3"
  },
  "language_info": {
   "codemirror_mode": {
    "name": "ipython",
    "version": 3
   },
   "file_extension": ".py",
   "mimetype": "text/x-python",
   "name": "python",
   "nbconvert_exporter": "python",
   "pygments_lexer": "ipython3",
   "version": "3.11.0"
  }
 },
 "nbformat": 4,
 "nbformat_minor": 5
}
